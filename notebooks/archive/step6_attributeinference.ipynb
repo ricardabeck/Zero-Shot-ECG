{
 "cells": [
  {
   "cell_type": "markdown",
   "id": "c957c88e",
   "metadata": {},
   "source": [
    "# Attribute Inference Attacks on the data"
   ]
  },
  {
   "cell_type": "markdown",
   "id": "9abfd133",
   "metadata": {},
   "source": [
    "## Imports"
   ]
  },
  {
   "cell_type": "code",
   "execution_count": 1,
   "id": "24380e1e",
   "metadata": {},
   "outputs": [],
   "source": [
    "import numpy as np\n",
    "import matplotlib.pyplot as plt\n",
    "import scipy.io as spio\n",
    "from os.path import join as osj\n",
    "import pandas as pd\n",
    "import seaborn as sns\n",
    "import random\n",
    "import pickle\n",
    "import os\n",
    "\n",
    "import logging\n",
    "logging.basicConfig(\n",
    "    format=\"%(asctime)s - %(levelname)s - %(message)s\",\n",
    "    level=logging.INFO,\n",
    "    datefmt=\"%Y-%m-%d %H:%M:%S\"\n",
    ")\n",
    "logger = logging.getLogger()\n",
    "\n",
    "from sklearn.model_selection import train_test_split\n",
    "from sklearn.ensemble import RandomForestClassifier\n",
    "from sklearn.ensemble import RandomForestRegressor\n",
    "from sklearn.ensemble import GradientBoostingRegressor\n",
    "from sklearn.metrics import classification_report\n",
    "from sklearn.metrics import accuracy_score, precision_recall_fscore_support\n",
    "from sklearn.metrics import mean_absolute_error, mean_squared_error, r2_score\n"
   ]
  },
  {
   "cell_type": "markdown",
   "id": "6069f820",
   "metadata": {},
   "source": [
    "## Functions"
   ]
  },
  {
   "cell_type": "code",
   "execution_count": 20,
   "id": "9de49222",
   "metadata": {},
   "outputs": [],
   "source": [
    "def get_ids():\n",
    "    valid_patients = pd.read_csv(osj(\"..\", \"files\", \"valid_patients.csv\"), header=None).to_numpy().reshape(-1)\n",
    "    return valid_patients\n",
    "\n",
    "# Get all beats \n",
    "def get_dp_beats(m):\n",
    "    with open(osj(\"..\", \"dp_data_single\", \"dataset_beats\", f\"{m}_30min_beats.pkl\"), \"rb\") as f:\n",
    "        dp_single = pickle.load(f)\n",
    "    with open(osj(\"..\", \"dp_data_trio\", \"dataset_beats\", f\"{m}_30min_beats.pkl\"), \"rb\") as f:\n",
    "        dp_trio = pickle.load(f)\n",
    "    \n",
    "    # filter only valid patients\n",
    "    valid_patients = get_ids() \n",
    "    f_dp_single = {\n",
    "        epsilon: {\n",
    "            pid: data for pid, data in patients.items() if int(pid) in valid_patients\n",
    "        }\n",
    "        for epsilon, patients in dp_single.items()\n",
    "    }\n",
    "    f_dp_trio = {\n",
    "        epsilon: {\n",
    "            pid: data for pid, data in patients.items() if int(pid) in valid_patients\n",
    "        }\n",
    "        for epsilon, patients in dp_trio.items()\n",
    "    }\n",
    "    del dp_single\n",
    "    del dp_trio\n",
    "\n",
    "    return f_dp_single, f_dp_trio\n",
    "\n",
    "def get_real_beats():\n",
    "    with open(osj(\"..\", \"data_single\", \"dataset_beats\", \"30min_beats.pkl\"), \"rb\") as f:\n",
    "        real_single = pickle.load(f)\n",
    "    with open(osj(\"..\", \"data_trio\", \"dataset_beats\", \"30min_beats.pkl\"), \"rb\") as f:\n",
    "        real_trio = pickle.load(f)\n",
    "\n",
    "    # filter only valid patients\n",
    "    valid_patients = get_ids() \n",
    "    f_real_single = {pid: data for pid, data in real_single.items() if int(pid) in valid_patients}\n",
    "    f_real_trio = {pid: data for pid, data in real_trio.items() if int(pid) in valid_patients}\n",
    "    del real_single\n",
    "    del real_trio\n",
    "\n",
    "    return f_real_single, f_real_trio\n",
    "\n",
    "# Get patient attributes\n",
    "def get_patient_infos():\n",
    "    with open(osj(\"..\", \"files\", \"patient_infos.pkl\"), \"rb\") as f:\n",
    "        patient_info = pickle.load(f)\n",
    "    \n",
    "    valid_patients = get_ids() \n",
    "    f_patient_info = {pid: data for pid, data in patient_info.items() if int(pid) in valid_patients}\n",
    "\n",
    "    return f_patient_info\n",
    "\n",
    "# extract the required attributes from the patient data\n",
    "def get_patient_attribute(attribute, data):\n",
    "    attr_dict = {str(pid): data[attribute] for pid, data in data.items()}\n",
    "    attr_array = list(attr_dict.values())\n",
    "    return attr_array\n",
    "\n",
    "# Prepare train and test data into the required format\n",
    "def prepare_inference_data(signals, attr_array, beats_per_patient=1000, beats_only=True):\n",
    "    \"\"\"\n",
    "    Prepare the data for attribute inference attack.\n",
    "\n",
    "    Parameters:\n",
    "        signals: ndarray with structure [patient][beat/class/label][beat(128,)]\n",
    "        attr_array: List or ndarray, target attribute\n",
    "        beats_per_patient: int, Count of beats per patient (default: 1000)\n",
    "        beats_only: bool, if every beat is separated (default: True)\n",
    "\n",
    "    Returns:\n",
    "        X: ndarray in format [n_patients, beats_per_patient, beat_length] (if beats_only=False)\n",
    "           or [total_beats, beat_length] (if beats_only=True)\n",
    "        y: ndarray in format [n_patients] (if beats_only=False)\n",
    "           or [total_beats] (if beats_only=True)\n",
    "    \"\"\"\n",
    "    X = []\n",
    "    y = []\n",
    "    i = 0\n",
    "\n",
    "    for patient_id in signals:\n",
    "        attr = attr_array[i]\n",
    "        patient_beats = signals[patient_id]['beats']\n",
    "\n",
    "        i += 1\n",
    "            \n",
    "        # Sampling random beats from the patient\n",
    "        random.seed(42)\n",
    "        n_beats = min(beats_per_patient, len(patient_beats))\n",
    "        sampled_beats = patient_beats[np.random.choice(len(patient_beats), n_beats, replace=False)]\n",
    "\n",
    "        if beats_only:\n",
    "            X.append(sampled_beats)\n",
    "            y.append(np.full(n_beats, attr))\n",
    "        else:\n",
    "            if len(sampled_beats) < beats_per_patient:\n",
    "                # Padding with zeros if less than beats_per_patient\n",
    "                padding = np.zeros((beats_per_patient - len(sampled_beats), sampled_beats.shape[1]))\n",
    "                sampled_beats = np.vstack((sampled_beats, padding))\n",
    "            X.append(sampled_beats)\n",
    "            y.append(attr)\n",
    "\n",
    "    if beats_only:\n",
    "        X = np.concatenate(X, axis=0)  # shape: [n_beats, 280]\n",
    "        y = np.concatenate(y, axis=0)  # shape: [n_beats]\n",
    "    else:\n",
    "        X = np.array(X) # shape: [n_patients, beats_per_patient, 280]\n",
    "        y = np.array(y) # shape: [n_patients]\n",
    "    \n",
    "    return X, y\n",
    "\n",
    "\n",
    "# train a chosen model for attribute inference\n",
    "def train_attribute_inference(X, y, attr_array, task=\"classification\"):\n",
    "\n",
    "    \"\"\"\n",
    "    Training of the specified attribute inference model. \n",
    "        Classification: Random Forest\n",
    "        Regression: XGBRegressor, Gradient Boosting, Linear Regression, MLP Regressor\n",
    "\n",
    "    Parameters:\n",
    "        signals: ndarray with structure [patient][beat/class/label][beat(128,)]\n",
    "        attr_array: dict with structure {patient_index: {\"gender\": 0/1, ...}}\n",
    "        task: str, type of model to use for inference (default: \"randomForest\")\n",
    "\n",
    "    Returns:\n",
    "        y_test: real labels\n",
    "        y_pred: predicted labels\n",
    "        pred_classes: predicted classes (for classification tasks)\n",
    "    \"\"\"\n",
    "\n",
    "    if task == \"classification\":\n",
    "\n",
    "        # X, y = prepare_inference_data(signals, attr_array, beats_per_patient=1500, beats_only=False)\n",
    "        # X_flattened = X.reshape(X.shape[0], X.shape[1] * X.shape[2])  # Shape: (patients, 1000*280)\n",
    "        # X_train, X_test, y_train, y_test = train_test_split(X_flattened, y, test_size=0.2, random_state=42, stratify=y)\n",
    "        \n",
    "        # X, y = prepare_inference_data(signals, attr_array, beats_per_patient=50, beats_only=True)\n",
    "        X_train, X_test, y_train, y_test = train_test_split(X, y, test_size=0.2, random_state=42, stratify=y) # TODO Train-test split should be on patient level, not on beat level\n",
    "        \n",
    "        clf = RandomForestClassifier(\n",
    "            n_estimators=100,\n",
    "            max_depth=20,\n",
    "            n_jobs=-1,\n",
    "            random_state=42\n",
    "        )\n",
    "\n",
    "        clf.fit(X_train, y_train)\n",
    "        y_pred = clf.predict(X_test)\n",
    "        pred_classes = list(clf.classes_) \n",
    "\n",
    "        return y_test, y_pred, pred_classes\n",
    "    \n",
    "    elif task == \"regression\":\n",
    "\n",
    "        # X, y = prepare_inference_data(signals, attr_array, beats_per_patient=1000, beats_only=True)\n",
    "        X_train, X_test, y_train, y_test = train_test_split(X, y, test_size=0.2, random_state=42)\n",
    "\n",
    "        # xgb_model = XGBRegressor(\n",
    "        #     tree_method=\"gpu_hist\",\n",
    "        #     n_estimators=100,\n",
    "        #     max_depth=10,\n",
    "        #     learning_rate=0.1,\n",
    "        #     random_state=42,\n",
    "        #     n_jobs=-1\n",
    "        # )\n",
    "        # xgb_model = XGBRegressor(tree_method=\"gpu_hist\")\n",
    "        # xgb_model.fit(X_train, y_train)\n",
    "        # y_pred = xgb_model.predict(X_test)\n",
    "\n",
    "        # model = GradientBoostingRegressor(n_estimators=200, learning_rate=0.1, max_depth=3, random_state=42)\n",
    "        # model.fit(X_train, y_train)\n",
    "        # y_pred = model.predict(X_test)\n",
    "\n",
    "        # model = LinearRegression()\n",
    "        # model.fit(X_train, y_train)\n",
    "        # y_pred = model.predict(X_test)\n",
    "\n",
    "        model = MLPRegressor(hidden_layer_sizes=(100, 50), max_iter=500, random_state=42)\n",
    "        model.fit(X_train, y_train)\n",
    "        y_pred = model.predict(X_test)\n",
    "\n",
    "        return y_test, y_pred\n",
    "    \n",
    "    else:\n",
    "        raise ValueError(f\"Unsupported task type: {task}\")\n",
    "\n"
   ]
  },
  {
   "cell_type": "markdown",
   "id": "e1370aac",
   "metadata": {},
   "source": [
    "## Attacks on real data"
   ]
  },
  {
   "cell_type": "code",
   "execution_count": 70,
   "id": "effd0e10",
   "metadata": {},
   "outputs": [],
   "source": [
    "real_single, real_trio = get_real_beats()\n",
    "patient_infos = get_patient_infos()\n",
    "patient_ids = get_ids()"
   ]
  },
  {
   "cell_type": "code",
   "execution_count": 27,
   "id": "c1bbd1f6",
   "metadata": {},
   "outputs": [
    {
     "name": "stdout",
     "output_type": "stream",
     "text": [
      "Minimal value of single beats: 1516\n",
      "Minimal value of trio beats: 1516\n"
     ]
    }
   ],
   "source": [
    "min_beats_s = min(len(data['beats']) for data in real_single.values())\n",
    "min_beats_t = min(len(data['beats']) for data in real_trio.values())\n",
    "print(f\"Minimal value of single beats: {min_beats_s}\")\n",
    "print(f\"Minimal value of trio beats: {min_beats_t}\")"
   ]
  },
  {
   "cell_type": "code",
   "execution_count": 5,
   "id": "175fe555",
   "metadata": {},
   "outputs": [
    {
     "data": {
      "text/plain": [
       "128"
      ]
     },
     "execution_count": 5,
     "metadata": {},
     "output_type": "execute_result"
    }
   ],
   "source": [
    "len(real_single[100]['beats'][0])"
   ]
  },
  {
   "cell_type": "markdown",
   "id": "c3d4af15",
   "metadata": {},
   "source": [
    "### \"gender\" attribute inference"
   ]
  },
  {
   "cell_type": "code",
   "execution_count": 141,
   "id": "2aa52d27",
   "metadata": {},
   "outputs": [],
   "source": [
    "# get attribute to be predicted\n",
    "attr_array = get_patient_attribute(\"gender\", patient_infos)"
   ]
  },
  {
   "cell_type": "code",
   "execution_count": null,
   "id": "6044f575",
   "metadata": {},
   "outputs": [
    {
     "name": "stdout",
     "output_type": "stream",
     "text": [
      "              precision    recall  f1-score   support\n",
      "\n",
      "           F       0.88      0.94      0.91       150\n",
      "           M       0.95      0.89      0.92       190\n",
      "\n",
      "    accuracy                           0.91       340\n",
      "   macro avg       0.91      0.92      0.91       340\n",
      "weighted avg       0.92      0.91      0.91       340\n",
      "\n"
     ]
    }
   ],
   "source": [
    "# train the attack model for single beats\n",
    "y_test, y_pred, pred_classes = train_attribute_inference(real_single, attr_array, task=\"classification\")\n",
    "\n",
    "# print performance metrics\n",
    "print(classification_report(y_test, y_pred, target_names=pred_classes))\n",
    "\n",
    "# last trained on 50 beats per patient"
   ]
  },
  {
   "cell_type": "code",
   "execution_count": 112,
   "id": "2437b67e",
   "metadata": {},
   "outputs": [
    {
     "name": "stdout",
     "output_type": "stream",
     "text": [
      "              precision    recall  f1-score   support\n",
      "\n",
      "           F       0.67      0.67      0.67         3\n",
      "           M       0.75      0.75      0.75         4\n",
      "\n",
      "    accuracy                           0.71         7\n",
      "   macro avg       0.71      0.71      0.71         7\n",
      "weighted avg       0.71      0.71      0.71         7\n",
      "\n"
     ]
    }
   ],
   "source": [
    "# train the attack model for trio beats\n",
    "y_test, y_pred, pred_classes = train_attribute_inference(real_trio, attr_array, task=\"classification\")\n",
    "\n",
    "# print performance metrics\n",
    "print(classification_report(y_test, y_pred, target_names=pred_classes))"
   ]
  },
  {
   "cell_type": "markdown",
   "id": "89c162ad",
   "metadata": {},
   "source": [
    "### \"age\" attribute inference"
   ]
  },
  {
   "cell_type": "code",
   "execution_count": null,
   "id": "3a75b301",
   "metadata": {},
   "outputs": [],
   "source": [
    "# get attribute to be predicted\n",
    "attr_array = get_patient_attribute(\"age\", patient_infos)\n",
    "\n",
    "real_single_age = real_single.copy()\n",
    "real_trio_age = real_trio.copy()\n",
    "\n",
    "# patient 3 (idx = 2) and 27 (idx = 26, will be 25) have no age and therefore will be removed\n",
    "del attr_array[2]\n",
    "\n",
    "key_to_remove = list(real_single_age.keys())[2]\n",
    "del real_single_age[key_to_remove]\n",
    "del real_trio_age[key_to_remove]\n",
    "\n",
    "del attr_array[25]\n",
    "\n",
    "key_to_remove = list(real_single_age.keys())[25]\n",
    "del real_single_age[key_to_remove]\n",
    "del real_trio_age[key_to_remove]"
   ]
  },
  {
   "cell_type": "code",
   "execution_count": null,
   "id": "ad88d8ea",
   "metadata": {},
   "outputs": [
    {
     "name": "stdout",
     "output_type": "stream",
     "text": [
      "adult      6\n",
      "older     15\n",
      "senior    11\n",
      "dtype: int64\n"
     ]
    }
   ],
   "source": [
    "attr_array_grouped = pd.cut(attr_array, bins=[0, 40, 70, 100], labels=[\"young\", \"adult\", \"senior\"])\n",
    "print(attr_array_grouped.value_counts())"
   ]
  },
  {
   "cell_type": "code",
   "execution_count": 114,
   "id": "80d747d4",
   "metadata": {},
   "outputs": [
    {
     "name": "stdout",
     "output_type": "stream",
     "text": [
      "              precision    recall  f1-score   support\n",
      "\n",
      "       adult       0.00      0.00      0.00         1\n",
      "       older       0.40      0.67      0.50         3\n",
      "      senior       0.50      0.33      0.40         3\n",
      "\n",
      "    accuracy                           0.43         7\n",
      "   macro avg       0.30      0.33      0.30         7\n",
      "weighted avg       0.39      0.43      0.39         7\n",
      "\n"
     ]
    },
    {
     "name": "stderr",
     "output_type": "stream",
     "text": [
      "/home/rbeck1_sw/miniconda3/envs/torch_dpl/lib/python3.8/site-packages/sklearn/metrics/_classification.py:1471: UndefinedMetricWarning: Precision and F-score are ill-defined and being set to 0.0 in labels with no predicted samples. Use `zero_division` parameter to control this behavior.\n",
      "  _warn_prf(average, modifier, msg_start, len(result))\n",
      "/home/rbeck1_sw/miniconda3/envs/torch_dpl/lib/python3.8/site-packages/sklearn/metrics/_classification.py:1471: UndefinedMetricWarning: Precision and F-score are ill-defined and being set to 0.0 in labels with no predicted samples. Use `zero_division` parameter to control this behavior.\n",
      "  _warn_prf(average, modifier, msg_start, len(result))\n",
      "/home/rbeck1_sw/miniconda3/envs/torch_dpl/lib/python3.8/site-packages/sklearn/metrics/_classification.py:1471: UndefinedMetricWarning: Precision and F-score are ill-defined and being set to 0.0 in labels with no predicted samples. Use `zero_division` parameter to control this behavior.\n",
      "  _warn_prf(average, modifier, msg_start, len(result))\n"
     ]
    }
   ],
   "source": [
    "y_test, y_pred, pred_classes = train_attribute_inference(real_single_age, attr_array_grouped, task=\"classification\")\n",
    "\n",
    "print(classification_report(y_test, y_pred, target_names=pred_classes))"
   ]
  },
  {
   "cell_type": "code",
   "execution_count": 115,
   "id": "cbd00237",
   "metadata": {},
   "outputs": [
    {
     "name": "stdout",
     "output_type": "stream",
     "text": [
      "              precision    recall  f1-score   support\n",
      "\n",
      "       adult       0.00      0.00      0.00         1\n",
      "       older       0.40      0.67      0.50         3\n",
      "      senior       0.50      0.33      0.40         3\n",
      "\n",
      "    accuracy                           0.43         7\n",
      "   macro avg       0.30      0.33      0.30         7\n",
      "weighted avg       0.39      0.43      0.39         7\n",
      "\n"
     ]
    },
    {
     "name": "stderr",
     "output_type": "stream",
     "text": [
      "/home/rbeck1_sw/miniconda3/envs/torch_dpl/lib/python3.8/site-packages/sklearn/metrics/_classification.py:1471: UndefinedMetricWarning: Precision and F-score are ill-defined and being set to 0.0 in labels with no predicted samples. Use `zero_division` parameter to control this behavior.\n",
      "  _warn_prf(average, modifier, msg_start, len(result))\n",
      "/home/rbeck1_sw/miniconda3/envs/torch_dpl/lib/python3.8/site-packages/sklearn/metrics/_classification.py:1471: UndefinedMetricWarning: Precision and F-score are ill-defined and being set to 0.0 in labels with no predicted samples. Use `zero_division` parameter to control this behavior.\n",
      "  _warn_prf(average, modifier, msg_start, len(result))\n",
      "/home/rbeck1_sw/miniconda3/envs/torch_dpl/lib/python3.8/site-packages/sklearn/metrics/_classification.py:1471: UndefinedMetricWarning: Precision and F-score are ill-defined and being set to 0.0 in labels with no predicted samples. Use `zero_division` parameter to control this behavior.\n",
      "  _warn_prf(average, modifier, msg_start, len(result))\n"
     ]
    }
   ],
   "source": [
    "# train the attack model for single beats\n",
    "y_test, y_pred, pred_classes = train_attribute_inference(real_trio_age, attr_array_grouped, task=\"classification\")\n",
    "\n",
    "# print performance metrics\n",
    "print(classification_report(y_test, y_pred, target_names=pred_classes))"
   ]
  },
  {
   "cell_type": "code",
   "execution_count": 3,
   "id": "5bf1c913",
   "metadata": {},
   "outputs": [],
   "source": [
    "def save_attack_performance(attack, metrics):    \n",
    "    with open(osj(\"..\", \"dp_models\", \"attacks\", f\"{attack}_performance.pkl\"), \"wb\") as f:\n",
    "        pickle.dump(metrics, f) \n",
    "\n",
    "def load_attack_performance(attack):    \n",
    "    with open(osj(\"..\", \"dp_models\", \"attacks\", f\"{attack}_performance.pkl\"), \"rb\") as f:\n",
    "        metrics = pickle.load(f) \n",
    "    return metrics"
   ]
  },
  {
   "cell_type": "code",
   "execution_count": null,
   "id": "24fe05f3",
   "metadata": {},
   "outputs": [],
   "source": [
    "aia_metrics = {\"no_dp\": {\"gender\": 0.1, \"age\": None}}"
   ]
  },
  {
   "cell_type": "code",
   "execution_count": null,
   "id": "0781908a",
   "metadata": {},
   "outputs": [
    {
     "name": "stderr",
     "output_type": "stream",
     "text": [
      "/home/rbeck1_sw/miniconda3/envs/torch_dpl/lib/python3.8/site-packages/sklearn/metrics/_classification.py:1471: UndefinedMetricWarning: Precision and F-score are ill-defined and being set to 0.0 in labels with no predicted samples. Use `zero_division` parameter to control this behavior.\n",
      "  _warn_prf(average, modifier, msg_start, len(result))\n"
     ]
    }
   ],
   "source": [
    "# runs ...\n",
    "\n",
    "# def train_real_aia():\n",
    "\n",
    "attack = \"AIA\" \n",
    "mechanism = \"no_dp\"\n",
    "attributes = [\"gender\", \"age\"]\n",
    "# attributes = [\"gender\", \"age\", \"medication\"]\n",
    "\n",
    "# load patient data\n",
    "patient_infos = get_patient_infos()\n",
    "patient_ids = get_ids()\n",
    "\n",
    "# aia_metrics = {}\n",
    "aia_metrics = {\"no_dp\": {}}\n",
    "# aia_metrics = load_attack_performance(attack)\n",
    "\n",
    "n_beats = 20\n",
    "\n",
    "# load the data\n",
    "real_single, real_trio = get_real_beats()\n",
    "\n",
    "########  ATTRIBUTE  ########\n",
    "for attribute in attributes:\n",
    "\n",
    "    try: \n",
    "        aia_metrics[mechanism][attribute]\n",
    "        logger.info(f\"Skipping existing attribute {attribute} ...\")\n",
    "\n",
    "    except KeyError:\n",
    "    \n",
    "        # --------- Attack training ---------\n",
    "        attr_task = \"regression\" if attribute == \"id\" else \"classification\"\n",
    "        \n",
    "        # get the patient attributes\n",
    "        attr_array = get_patient_attribute(attribute, patient_infos)\n",
    "        \n",
    "        # TODO stop leakage, by first splitting train and test sets\n",
    "\n",
    "        # prepare the data\n",
    "        X_single, y_single = prepare_inference_data(real_single, attr_array, beats_per_patient=n_beats, beats_only=True)\n",
    "        X_trio, y_trio = prepare_inference_data(real_trio, attr_array, beats_per_patient=n_beats, beats_only=True)\n",
    "\n",
    "        # train the attack model\n",
    "        y_test_single, y_pred_single, pred_classes = train_attribute_inference(X_single, y_single, attr_array, task=attr_task)\n",
    "        y_test_trio, y_pred_trio, pred_classes = train_attribute_inference(X_trio, y_trio, attr_array, task=attr_task)\n",
    "\n",
    "        # calculate the metrics\n",
    "        acc_s = accuracy_score(y_test_single, y_pred_single)\n",
    "        acc_t = accuracy_score(y_test_trio, y_pred_trio)\n",
    "        pre_s, rec_s, f1_s, _ = precision_recall_fscore_support(y_test_single, y_pred_single, average=\"macro\")\n",
    "        pre_t, rec_t, f1_t, _ = precision_recall_fscore_support(y_test_trio, y_pred_trio, average=\"macro\")\n",
    "\n",
    "        metrics = {}\n",
    "        # save the metrics\n",
    "        metrics[\"single\"] = {\n",
    "            \"acc\": acc_s,\n",
    "            \"rec\": rec_s,\n",
    "            \"pre\": pre_s,\n",
    "            \"f1\": f1_s\n",
    "        }\n",
    "        metrics[\"trio\"] = {\n",
    "            \"acc\": acc_t,\n",
    "            \"rec\": rec_t,\n",
    "            \"pre\": pre_t,\n",
    "            \"f1\": f1_t\n",
    "        }          \n",
    "    \n",
    "        aia_metrics[mechanism][attribute] = metrics\n",
    "\n",
    "# save the metrics\n",
    "#save_attack_performance(attack, aia_metrics)\n",
    "#logger.info(f\"Saved updated attack performance for {attack}.\")\n"
   ]
  },
  {
   "cell_type": "code",
   "execution_count": 32,
   "id": "1c3e55f4",
   "metadata": {},
   "outputs": [
    {
     "data": {
      "text/plain": [
       "{'no_dp': {'gender': {'single': {'acc': 0.8382352941176471,\n",
       "    'rec': 0.8342105263157895,\n",
       "    'pre': 0.8368700265251989,\n",
       "    'f1': 0.8353510895883778},\n",
       "   'trio': {'acc': 0.9558823529411765,\n",
       "    'rec': 0.9552631578947368,\n",
       "    'pre': 0.9552631578947368,\n",
       "    'f1': 0.9552631578947368}},\n",
       "  'age': {'single': {'acc': 0.8676470588235294,\n",
       "    'rec': 0.87,\n",
       "    'pre': 0.8646825396825397,\n",
       "    'f1': 0.8625729368670545},\n",
       "   'trio': {'acc': 0.8897058823529411,\n",
       "    'rec': 0.86,\n",
       "    'pre': 0.9159230769230768,\n",
       "    'f1': 0.8624046685340803}}}}"
      ]
     },
     "execution_count": 32,
     "metadata": {},
     "output_type": "execute_result"
    }
   ],
   "source": [
    "aia_metrics"
   ]
  },
  {
   "cell_type": "markdown",
   "id": "75d42b15",
   "metadata": {},
   "source": [
    "## Attack on DP data"
   ]
  },
  {
   "cell_type": "code",
   "execution_count": null,
   "id": "02a52e25",
   "metadata": {},
   "outputs": [],
   "source": [
    "# runs ...\n",
    "\n",
    "# def train_dp_aia():\n",
    "\n",
    "attack = \"AIA\" \n",
    "p_method = [\"laplace\", \"bounded_n\", \"gaussian_a\"]\n",
    "attributes = [\"gender\", \"age\"]\n",
    "# attributes = [\"gender\", \"age\", \"medication\"]\n",
    "\n",
    "# load patient data\n",
    "patient_infos = get_patient_infos()\n",
    "patient_ids = get_ids()\n",
    "\n",
    "# load epsilon values to be tested (top 10 and low 10)\n",
    "df_toplow_20 = pd.read_pickle(\"../files/toplow20.pkl\") # dataframe with columns: Model, Method, Epsilon, Metric, Value\n",
    "\n",
    "aia_metrics = {}\n",
    "# aia_metrics = load_attack_performance(attack)\n",
    "\n",
    "n_beats = 100\n",
    "\n",
    "########  MECHANISM  ########\n",
    "for mechanism in list(set(df_toplow_20[\"Method\"].tolist())): # requires deduplication\n",
    "\n",
    "    # load the data\n",
    "    dp_single, dp_trio = get_dp_beats(epsilon)\n",
    "\n",
    "    epsilon_metrics = {}\n",
    "    hp_epsilon_values = df_toplow_20[df_toplow_20[\"Method\"] == mechanism][\"Epsilon\"].tolist()\n",
    "\n",
    "    ########  EPSILON  ########\n",
    "    for epsilon in hp_epsilon_values:\n",
    "\n",
    "        attribute_metrics = {}\n",
    "\n",
    "        ########  ATTRIBUTE  ########\n",
    "        for attribute in attributes:\n",
    "\n",
    "            if aia_metrics[mechanism][epsilon][attribute]:\n",
    "                logger.info(f\"Skipping existing attribute {attribute} ...\")\n",
    "                skipped = True\n",
    "                continue\n",
    "            \n",
    "            else:\n",
    "                skipped = False\n",
    "                metrics = {}\n",
    "                \n",
    "                # --------- Attack training ---------\n",
    "                attr_task = \"regression\" if attribute == \"id\" else \"classification\"\n",
    "                \n",
    "                # get the patient attributes\n",
    "                attr_array = get_patient_attribute(attribute, patient_infos)\n",
    "\n",
    "                # prepare the data\n",
    "                X_single, y_single = prepare_inference_data(dp_single, attr_array, beats_per_patient=n_beats, beats_only=True)\n",
    "                X_trio, y_trio = prepare_inference_data(dp_trio, attr_array, beats_per_patient=n_beats, beats_only=True)\n",
    "\n",
    "                # train the attack model\n",
    "                y_test_single, y_pred_single, pred_classes_single = train_attribute_inference(X_single, y_single, task=attr_task)\n",
    "                y_test_trio, y_pred_trio, pred_classes_trio = train_attribute_inference(X_trio, y_trio, task=attr_task)\n",
    "\n",
    "\n",
    "                # calculate the metrics\n",
    "                acc_s = accuracy_score(y_test_single, y_pred_single)\n",
    "                acc_t = accuracy_score(y_test_trio, y_pred_trio)\n",
    "                pre_s, rec_s, f1_s, _ = precision_recall_fscore_support(y_test_single, y_pred_single, average=\"binary\")\n",
    "                pre_t, rec_t, f1_t, _ = precision_recall_fscore_support(y_test_trio, y_pred_trio, average=\"binary\")\n",
    "\n",
    "                mae_s = mean_absolute_error(y_test_single, y_pred_single)\n",
    "                mae_t = mean_absolute_error(y_test_trio, y_pred_trio)\n",
    "\n",
    "                mse_s = mean_squared_error(y_test_single, y_pred_single)\n",
    "                mse_t = mean_squared_error(y_test_trio, y_pred_trio)\n",
    "\n",
    "                r2_s = r2_score(y_test_single, y_pred_single)\n",
    "                r2_t = r2_score(y_test_trio, y_pred_trio)\n",
    "\n",
    "                # save the metrics\n",
    "                metrics[\"single\"] = {\n",
    "                    \"acc\": acc_s,\n",
    "                    \"rec\": rec_s,\n",
    "                    \"pre\": pre_s,\n",
    "                    \"f1\": f1_s,\n",
    "                    \"mae\": mae_s,\n",
    "                    \"mse\": mse_s,\n",
    "                    \"r2\": r2_s\n",
    "                }\n",
    "                metrics[\"trio\"] = {\n",
    "                    \"acc\": acc_t,\n",
    "                    \"rec\": rec_t,\n",
    "                    \"pre\": pre_t,\n",
    "                    \"f1\": f1_t,\n",
    "                    \"mae\": mae_t,\n",
    "                    \"mse\": mse_t,\n",
    "                    \"r2\": r2_t\n",
    "                }          \n",
    "\n",
    "                attribute_metrics[attribute] = metrics\n",
    "\n",
    "        epsilon_metrics[epsilon] = attribute_metrics\n",
    "    \n",
    "    aia_metrics[mechanism] = epsilon_metrics\n",
    "\n",
    "# save the metrics\n",
    "save_attack_performance(attack, aia_metrics)\n",
    "logger.info(f\"Saved updated attack performance for {attack}.\")\n"
   ]
  },
  {
   "cell_type": "code",
   "execution_count": null,
   "id": "f5994f2f",
   "metadata": {},
   "outputs": [],
   "source": [
    "p_methods = [\"laplace\", \"bounded_n\", \"gaussian_a\"]"
   ]
  },
  {
   "cell_type": "code",
   "execution_count": null,
   "id": "a069aa2a",
   "metadata": {},
   "outputs": [
    {
     "data": {
      "application/vnd.microsoft.datawrangler.viewer.v0+json": {
       "columns": [
        {
         "name": "index",
         "rawType": "int64",
         "type": "integer"
        },
        {
         "name": "Model",
         "rawType": "object",
         "type": "string"
        },
        {
         "name": "Method",
         "rawType": "object",
         "type": "string"
        },
        {
         "name": "Epsilon",
         "rawType": "float64",
         "type": "float"
        },
        {
         "name": "Metric",
         "rawType": "object",
         "type": "string"
        },
        {
         "name": "Value",
         "rawType": "float64",
         "type": "float"
        }
       ],
       "conversionMethod": "pd.DataFrame",
       "ref": "c042e47b-8510-4fef-8381-8e78faffb1e1",
       "rows": [
        [
         "7",
         "Ens_val",
         "laplace",
         "5.91",
         "f1",
         "0.9491849148418492"
        ],
        [
         "19",
         "Ens_val",
         "laplace",
         "0.041",
         "f1",
         "0.9428863225705081"
        ],
        [
         "17",
         "Ens_val",
         "laplace",
         "1e-05",
         "f1",
         "0.9425442025954818"
        ],
        [
         "16",
         "Ens_val",
         "laplace",
         "0.021",
         "f1",
         "0.9422533510445599"
        ],
        [
         "15",
         "Ens_val",
         "laplace",
         "0.091",
         "f1",
         "0.942009016522233"
        ],
        [
         "5",
         "Ens_val",
         "gaussian_a",
         "0.71",
         "f1",
         "0.9502179147237209"
        ],
        [
         "6",
         "Ens_val",
         "gaussian_a",
         "1e-05",
         "f1",
         "0.9494410754730767"
        ],
        [
         "9",
         "Ens_val",
         "gaussian_a",
         "9.01",
         "f1",
         "0.9490635243654265"
        ],
        [
         "18",
         "Ens_val",
         "gaussian_a",
         "9.51",
         "f1",
         "0.9426100438479614"
        ],
        [
         "8",
         "Ens_val",
         "bounded_n",
         "1.21",
         "f1",
         "0.9491352196475176"
        ],
        [
         "2",
         "DA",
         "laplace",
         "5.91",
         "f1",
         "0.9463014984089556"
        ],
        [
         "14",
         "DA",
         "laplace",
         "1e-05",
         "f1",
         "0.9374581539933047"
        ],
        [
         "13",
         "DA",
         "laplace",
         "0.041",
         "f1",
         "0.9372492682955907"
        ],
        [
         "12",
         "DA",
         "laplace",
         "0.11",
         "f1",
         "0.9370730339424964"
        ],
        [
         "11",
         "DA",
         "laplace",
         "0.021",
         "f1",
         "0.936064674599957"
        ],
        [
         "10",
         "DA",
         "laplace",
         "0.091",
         "f1",
         "0.9350193603644864"
        ],
        [
         "0",
         "DA",
         "gaussian_a",
         "0.71",
         "f1",
         "0.9464438370678964"
        ],
        [
         "3",
         "DA",
         "gaussian_a",
         "4.51",
         "f1",
         "0.9457070707070708"
        ],
        [
         "1",
         "DA",
         "bounded_n",
         "0.71",
         "f1",
         "0.9463793082677783"
        ],
        [
         "4",
         "DA",
         "bounded_n",
         "1.21",
         "f1",
         "0.945645835212072"
        ]
       ],
       "shape": {
        "columns": 5,
        "rows": 20
       }
      },
      "text/html": [
       "<div>\n",
       "<style scoped>\n",
       "    .dataframe tbody tr th:only-of-type {\n",
       "        vertical-align: middle;\n",
       "    }\n",
       "\n",
       "    .dataframe tbody tr th {\n",
       "        vertical-align: top;\n",
       "    }\n",
       "\n",
       "    .dataframe thead th {\n",
       "        text-align: right;\n",
       "    }\n",
       "</style>\n",
       "<table border=\"1\" class=\"dataframe\">\n",
       "  <thead>\n",
       "    <tr style=\"text-align: right;\">\n",
       "      <th></th>\n",
       "      <th>Model</th>\n",
       "      <th>Method</th>\n",
       "      <th>Epsilon</th>\n",
       "      <th>Metric</th>\n",
       "      <th>Value</th>\n",
       "    </tr>\n",
       "  </thead>\n",
       "  <tbody>\n",
       "    <tr>\n",
       "      <th>7</th>\n",
       "      <td>Ens_val</td>\n",
       "      <td>laplace</td>\n",
       "      <td>5.91000</td>\n",
       "      <td>f1</td>\n",
       "      <td>0.949185</td>\n",
       "    </tr>\n",
       "    <tr>\n",
       "      <th>19</th>\n",
       "      <td>Ens_val</td>\n",
       "      <td>laplace</td>\n",
       "      <td>0.04100</td>\n",
       "      <td>f1</td>\n",
       "      <td>0.942886</td>\n",
       "    </tr>\n",
       "    <tr>\n",
       "      <th>17</th>\n",
       "      <td>Ens_val</td>\n",
       "      <td>laplace</td>\n",
       "      <td>0.00001</td>\n",
       "      <td>f1</td>\n",
       "      <td>0.942544</td>\n",
       "    </tr>\n",
       "    <tr>\n",
       "      <th>16</th>\n",
       "      <td>Ens_val</td>\n",
       "      <td>laplace</td>\n",
       "      <td>0.02100</td>\n",
       "      <td>f1</td>\n",
       "      <td>0.942253</td>\n",
       "    </tr>\n",
       "    <tr>\n",
       "      <th>15</th>\n",
       "      <td>Ens_val</td>\n",
       "      <td>laplace</td>\n",
       "      <td>0.09100</td>\n",
       "      <td>f1</td>\n",
       "      <td>0.942009</td>\n",
       "    </tr>\n",
       "    <tr>\n",
       "      <th>5</th>\n",
       "      <td>Ens_val</td>\n",
       "      <td>gaussian_a</td>\n",
       "      <td>0.71000</td>\n",
       "      <td>f1</td>\n",
       "      <td>0.950218</td>\n",
       "    </tr>\n",
       "    <tr>\n",
       "      <th>6</th>\n",
       "      <td>Ens_val</td>\n",
       "      <td>gaussian_a</td>\n",
       "      <td>0.00001</td>\n",
       "      <td>f1</td>\n",
       "      <td>0.949441</td>\n",
       "    </tr>\n",
       "    <tr>\n",
       "      <th>9</th>\n",
       "      <td>Ens_val</td>\n",
       "      <td>gaussian_a</td>\n",
       "      <td>9.01000</td>\n",
       "      <td>f1</td>\n",
       "      <td>0.949064</td>\n",
       "    </tr>\n",
       "    <tr>\n",
       "      <th>18</th>\n",
       "      <td>Ens_val</td>\n",
       "      <td>gaussian_a</td>\n",
       "      <td>9.51000</td>\n",
       "      <td>f1</td>\n",
       "      <td>0.942610</td>\n",
       "    </tr>\n",
       "    <tr>\n",
       "      <th>8</th>\n",
       "      <td>Ens_val</td>\n",
       "      <td>bounded_n</td>\n",
       "      <td>1.21000</td>\n",
       "      <td>f1</td>\n",
       "      <td>0.949135</td>\n",
       "    </tr>\n",
       "    <tr>\n",
       "      <th>2</th>\n",
       "      <td>DA</td>\n",
       "      <td>laplace</td>\n",
       "      <td>5.91000</td>\n",
       "      <td>f1</td>\n",
       "      <td>0.946301</td>\n",
       "    </tr>\n",
       "    <tr>\n",
       "      <th>14</th>\n",
       "      <td>DA</td>\n",
       "      <td>laplace</td>\n",
       "      <td>0.00001</td>\n",
       "      <td>f1</td>\n",
       "      <td>0.937458</td>\n",
       "    </tr>\n",
       "    <tr>\n",
       "      <th>13</th>\n",
       "      <td>DA</td>\n",
       "      <td>laplace</td>\n",
       "      <td>0.04100</td>\n",
       "      <td>f1</td>\n",
       "      <td>0.937249</td>\n",
       "    </tr>\n",
       "    <tr>\n",
       "      <th>12</th>\n",
       "      <td>DA</td>\n",
       "      <td>laplace</td>\n",
       "      <td>0.11000</td>\n",
       "      <td>f1</td>\n",
       "      <td>0.937073</td>\n",
       "    </tr>\n",
       "    <tr>\n",
       "      <th>11</th>\n",
       "      <td>DA</td>\n",
       "      <td>laplace</td>\n",
       "      <td>0.02100</td>\n",
       "      <td>f1</td>\n",
       "      <td>0.936065</td>\n",
       "    </tr>\n",
       "    <tr>\n",
       "      <th>10</th>\n",
       "      <td>DA</td>\n",
       "      <td>laplace</td>\n",
       "      <td>0.09100</td>\n",
       "      <td>f1</td>\n",
       "      <td>0.935019</td>\n",
       "    </tr>\n",
       "    <tr>\n",
       "      <th>0</th>\n",
       "      <td>DA</td>\n",
       "      <td>gaussian_a</td>\n",
       "      <td>0.71000</td>\n",
       "      <td>f1</td>\n",
       "      <td>0.946444</td>\n",
       "    </tr>\n",
       "    <tr>\n",
       "      <th>3</th>\n",
       "      <td>DA</td>\n",
       "      <td>gaussian_a</td>\n",
       "      <td>4.51000</td>\n",
       "      <td>f1</td>\n",
       "      <td>0.945707</td>\n",
       "    </tr>\n",
       "    <tr>\n",
       "      <th>1</th>\n",
       "      <td>DA</td>\n",
       "      <td>bounded_n</td>\n",
       "      <td>0.71000</td>\n",
       "      <td>f1</td>\n",
       "      <td>0.946379</td>\n",
       "    </tr>\n",
       "    <tr>\n",
       "      <th>4</th>\n",
       "      <td>DA</td>\n",
       "      <td>bounded_n</td>\n",
       "      <td>1.21000</td>\n",
       "      <td>f1</td>\n",
       "      <td>0.945646</td>\n",
       "    </tr>\n",
       "  </tbody>\n",
       "</table>\n",
       "</div>"
      ],
      "text/plain": [
       "      Model      Method  Epsilon Metric     Value\n",
       "7   Ens_val     laplace  5.91000     f1  0.949185\n",
       "19  Ens_val     laplace  0.04100     f1  0.942886\n",
       "17  Ens_val     laplace  0.00001     f1  0.942544\n",
       "16  Ens_val     laplace  0.02100     f1  0.942253\n",
       "15  Ens_val     laplace  0.09100     f1  0.942009\n",
       "5   Ens_val  gaussian_a  0.71000     f1  0.950218\n",
       "6   Ens_val  gaussian_a  0.00001     f1  0.949441\n",
       "9   Ens_val  gaussian_a  9.01000     f1  0.949064\n",
       "18  Ens_val  gaussian_a  9.51000     f1  0.942610\n",
       "8   Ens_val   bounded_n  1.21000     f1  0.949135\n",
       "2        DA     laplace  5.91000     f1  0.946301\n",
       "14       DA     laplace  0.00001     f1  0.937458\n",
       "13       DA     laplace  0.04100     f1  0.937249\n",
       "12       DA     laplace  0.11000     f1  0.937073\n",
       "11       DA     laplace  0.02100     f1  0.936065\n",
       "10       DA     laplace  0.09100     f1  0.935019\n",
       "0        DA  gaussian_a  0.71000     f1  0.946444\n",
       "3        DA  gaussian_a  4.51000     f1  0.945707\n",
       "1        DA   bounded_n  0.71000     f1  0.946379\n",
       "4        DA   bounded_n  1.21000     f1  0.945646"
      ]
     },
     "execution_count": 15,
     "metadata": {},
     "output_type": "execute_result"
    }
   ],
   "source": [
    "# Load the 10 best performing and 10 worst performing DP setups.\n",
    "# they are sorted by Model, Method and value\n",
    "\n",
    "df_toplow_20 = pd.read_pickle(\"../files/toplow20.pkl\")\n",
    "df_toplow_20"
   ]
  },
  {
   "cell_type": "markdown",
   "id": "8a178625",
   "metadata": {},
   "source": [
    "### Laplace"
   ]
  },
  {
   "cell_type": "code",
   "execution_count": 101,
   "id": "984c9961",
   "metadata": {},
   "outputs": [],
   "source": [
    "dp_single, dp_trio = get_dp_beats(\"laplace\")"
   ]
  },
  {
   "cell_type": "code",
   "execution_count": null,
   "id": "962e6639",
   "metadata": {},
   "outputs": [
    {
     "data": {
      "text/plain": [
       "[0.091, 0.11, 5.91, 1e-05, 0.041, 0.021]"
      ]
     },
     "execution_count": 98,
     "metadata": {},
     "output_type": "execute_result"
    }
   ],
   "source": [
    "laplace_epsilon = list(set(df_toplow_20[df_toplow_20[\"Method\"] == \"laplace\"][\"Epsilon\"].tolist())) # decuplicating the epsilon values\n",
    "laplace_epsilon"
   ]
  },
  {
   "cell_type": "markdown",
   "id": "9448ed95",
   "metadata": {},
   "source": [
    "#### \"gender\" attribute inference"
   ]
  },
  {
   "cell_type": "code",
   "execution_count": 133,
   "id": "3ec89b70",
   "metadata": {},
   "outputs": [],
   "source": [
    "# get attribute to be predicted\n",
    "attr_array = get_patient_attribute(\"gender\", patient_infos)"
   ]
  },
  {
   "cell_type": "code",
   "execution_count": 134,
   "id": "901aa263",
   "metadata": {},
   "outputs": [
    {
     "name": "stdout",
     "output_type": "stream",
     "text": [
      "Laplace epsilon: 0.091\n",
      "              precision    recall  f1-score   support\n",
      "\n",
      "           F       0.75      1.00      0.86         3\n",
      "           M       1.00      0.75      0.86         4\n",
      "\n",
      "    accuracy                           0.86         7\n",
      "   macro avg       0.88      0.88      0.86         7\n",
      "weighted avg       0.89      0.86      0.86         7\n",
      "\n",
      "Laplace epsilon: 0.11\n",
      "              precision    recall  f1-score   support\n",
      "\n",
      "           F       0.75      1.00      0.86         3\n",
      "           M       1.00      0.75      0.86         4\n",
      "\n",
      "    accuracy                           0.86         7\n",
      "   macro avg       0.88      0.88      0.86         7\n",
      "weighted avg       0.89      0.86      0.86         7\n",
      "\n",
      "Laplace epsilon: 5.91\n",
      "              precision    recall  f1-score   support\n",
      "\n",
      "           F       0.75      1.00      0.86         3\n",
      "           M       1.00      0.75      0.86         4\n",
      "\n",
      "    accuracy                           0.86         7\n",
      "   macro avg       0.88      0.88      0.86         7\n",
      "weighted avg       0.89      0.86      0.86         7\n",
      "\n",
      "Laplace epsilon: 1e-05\n",
      "              precision    recall  f1-score   support\n",
      "\n",
      "           F       0.75      1.00      0.86         3\n",
      "           M       1.00      0.75      0.86         4\n",
      "\n",
      "    accuracy                           0.86         7\n",
      "   macro avg       0.88      0.88      0.86         7\n",
      "weighted avg       0.89      0.86      0.86         7\n",
      "\n",
      "Laplace epsilon: 0.041\n",
      "              precision    recall  f1-score   support\n",
      "\n",
      "           F       0.75      1.00      0.86         3\n",
      "           M       1.00      0.75      0.86         4\n",
      "\n",
      "    accuracy                           0.86         7\n",
      "   macro avg       0.88      0.88      0.86         7\n",
      "weighted avg       0.89      0.86      0.86         7\n",
      "\n",
      "Laplace epsilon: 0.021\n",
      "              precision    recall  f1-score   support\n",
      "\n",
      "           F       0.75      1.00      0.86         3\n",
      "           M       1.00      0.75      0.86         4\n",
      "\n",
      "    accuracy                           0.86         7\n",
      "   macro avg       0.88      0.88      0.86         7\n",
      "weighted avg       0.89      0.86      0.86         7\n",
      "\n"
     ]
    }
   ],
   "source": [
    "for epsilon in laplace_epsilon:\n",
    "    # train the attack model for single beats\n",
    "    y_test, y_pred, pred_classes = train_attribute_inference(dp_single[epsilon], attr_array, task=\"classification\")\n",
    "\n",
    "    # print performance metrics\n",
    "    print(f\"Laplace epsilon: {epsilon}\")\n",
    "    print(classification_report(y_test, y_pred, target_names=pred_classes))"
   ]
  },
  {
   "cell_type": "code",
   "execution_count": 136,
   "id": "5a89b6de",
   "metadata": {},
   "outputs": [
    {
     "name": "stdout",
     "output_type": "stream",
     "text": [
      "Laplace epsilon: 0.091\n",
      "              precision    recall  f1-score   support\n",
      "\n",
      "           F       0.60      1.00      0.75         3\n",
      "           M       1.00      0.50      0.67         4\n",
      "\n",
      "    accuracy                           0.71         7\n",
      "   macro avg       0.80      0.75      0.71         7\n",
      "weighted avg       0.83      0.71      0.70         7\n",
      "\n",
      "Laplace epsilon: 0.11\n",
      "              precision    recall  f1-score   support\n",
      "\n",
      "           F       0.75      1.00      0.86         3\n",
      "           M       1.00      0.75      0.86         4\n",
      "\n",
      "    accuracy                           0.86         7\n",
      "   macro avg       0.88      0.88      0.86         7\n",
      "weighted avg       0.89      0.86      0.86         7\n",
      "\n",
      "Laplace epsilon: 5.91\n",
      "              precision    recall  f1-score   support\n",
      "\n",
      "           F       0.75      1.00      0.86         3\n",
      "           M       1.00      0.75      0.86         4\n",
      "\n",
      "    accuracy                           0.86         7\n",
      "   macro avg       0.88      0.88      0.86         7\n",
      "weighted avg       0.89      0.86      0.86         7\n",
      "\n",
      "Laplace epsilon: 1e-05\n",
      "              precision    recall  f1-score   support\n",
      "\n",
      "           F       0.75      1.00      0.86         3\n",
      "           M       1.00      0.75      0.86         4\n",
      "\n",
      "    accuracy                           0.86         7\n",
      "   macro avg       0.88      0.88      0.86         7\n",
      "weighted avg       0.89      0.86      0.86         7\n",
      "\n",
      "Laplace epsilon: 0.041\n",
      "              precision    recall  f1-score   support\n",
      "\n",
      "           F       1.00      1.00      1.00         3\n",
      "           M       1.00      1.00      1.00         4\n",
      "\n",
      "    accuracy                           1.00         7\n",
      "   macro avg       1.00      1.00      1.00         7\n",
      "weighted avg       1.00      1.00      1.00         7\n",
      "\n",
      "Laplace epsilon: 0.021\n",
      "              precision    recall  f1-score   support\n",
      "\n",
      "           F       0.75      1.00      0.86         3\n",
      "           M       1.00      0.75      0.86         4\n",
      "\n",
      "    accuracy                           0.86         7\n",
      "   macro avg       0.88      0.88      0.86         7\n",
      "weighted avg       0.89      0.86      0.86         7\n",
      "\n"
     ]
    }
   ],
   "source": [
    "for epsilon in laplace_epsilon:\n",
    "    # train the attack model for single beats\n",
    "    y_test, y_pred, pred_classes = train_attribute_inference(dp_trio[epsilon], attr_array, task=\"classification\")\n",
    "\n",
    "    # print performance metrics\n",
    "    print(f\"Laplace epsilon: {epsilon}\")\n",
    "    print(classification_report(y_test, y_pred, target_names=pred_classes))"
   ]
  },
  {
   "cell_type": "markdown",
   "id": "05e3f8ad",
   "metadata": {},
   "source": [
    "#### \"age\" attribute inference"
   ]
  },
  {
   "cell_type": "code",
   "execution_count": 137,
   "id": "cbd29065",
   "metadata": {},
   "outputs": [],
   "source": [
    "# get attribute to be predicted\n",
    "attr_array = get_patient_attribute(\"age\", patient_infos)\n",
    "\n",
    "dp_single_age = dp_single.copy()\n",
    "dp_trio_age = dp_trio.copy()\n",
    "\n",
    "# patient 3 (idx = 2) and 27 (idx = 26, will be 25) have no age and therefore will be removed\n",
    "del attr_array[2]\n",
    "\n",
    "for epsilon in laplace_epsilon:\n",
    "\n",
    "    key_to_remove = list(dp_single_age[epsilon].keys())[2]\n",
    "    del dp_single_age[epsilon][key_to_remove]\n",
    "    del dp_trio_age[epsilon][key_to_remove]\n",
    "\n",
    "del attr_array[25]\n",
    "\n",
    "for epsilon in laplace_epsilon:\n",
    "\n",
    "    key_to_remove = list(dp_single_age[epsilon].keys())[25]\n",
    "    del dp_single_age[epsilon][key_to_remove]\n",
    "    del dp_trio_age[epsilon][key_to_remove]"
   ]
  },
  {
   "cell_type": "code",
   "execution_count": 138,
   "id": "e0e29f09",
   "metadata": {},
   "outputs": [
    {
     "name": "stdout",
     "output_type": "stream",
     "text": [
      "young      6\n",
      "adult     15\n",
      "senior    11\n",
      "dtype: int64\n",
      "Laplace epsilon: 0.091\n",
      "              precision    recall  f1-score   support\n",
      "\n",
      "       adult       0.25      0.33      0.29         3\n",
      "      senior       0.00      0.00      0.00         2\n",
      "       young       0.00      0.00      0.00         1\n",
      "\n",
      "    accuracy                           0.17         6\n",
      "   macro avg       0.08      0.11      0.10         6\n",
      "weighted avg       0.12      0.17      0.14         6\n",
      "\n"
     ]
    },
    {
     "name": "stderr",
     "output_type": "stream",
     "text": [
      "/home/rbeck1_sw/miniconda3/envs/torch_dpl/lib/python3.8/site-packages/sklearn/metrics/_classification.py:1471: UndefinedMetricWarning: Precision and F-score are ill-defined and being set to 0.0 in labels with no predicted samples. Use `zero_division` parameter to control this behavior.\n",
      "  _warn_prf(average, modifier, msg_start, len(result))\n",
      "/home/rbeck1_sw/miniconda3/envs/torch_dpl/lib/python3.8/site-packages/sklearn/metrics/_classification.py:1471: UndefinedMetricWarning: Precision and F-score are ill-defined and being set to 0.0 in labels with no predicted samples. Use `zero_division` parameter to control this behavior.\n",
      "  _warn_prf(average, modifier, msg_start, len(result))\n",
      "/home/rbeck1_sw/miniconda3/envs/torch_dpl/lib/python3.8/site-packages/sklearn/metrics/_classification.py:1471: UndefinedMetricWarning: Precision and F-score are ill-defined and being set to 0.0 in labels with no predicted samples. Use `zero_division` parameter to control this behavior.\n",
      "  _warn_prf(average, modifier, msg_start, len(result))\n"
     ]
    },
    {
     "name": "stdout",
     "output_type": "stream",
     "text": [
      "Laplace epsilon: 0.11\n",
      "              precision    recall  f1-score   support\n",
      "\n",
      "       adult       0.40      0.67      0.50         3\n",
      "      senior       0.00      0.00      0.00         2\n",
      "       young       0.00      0.00      0.00         1\n",
      "\n",
      "    accuracy                           0.33         6\n",
      "   macro avg       0.13      0.22      0.17         6\n",
      "weighted avg       0.20      0.33      0.25         6\n",
      "\n"
     ]
    },
    {
     "name": "stderr",
     "output_type": "stream",
     "text": [
      "/home/rbeck1_sw/miniconda3/envs/torch_dpl/lib/python3.8/site-packages/sklearn/metrics/_classification.py:1471: UndefinedMetricWarning: Precision and F-score are ill-defined and being set to 0.0 in labels with no predicted samples. Use `zero_division` parameter to control this behavior.\n",
      "  _warn_prf(average, modifier, msg_start, len(result))\n",
      "/home/rbeck1_sw/miniconda3/envs/torch_dpl/lib/python3.8/site-packages/sklearn/metrics/_classification.py:1471: UndefinedMetricWarning: Precision and F-score are ill-defined and being set to 0.0 in labels with no predicted samples. Use `zero_division` parameter to control this behavior.\n",
      "  _warn_prf(average, modifier, msg_start, len(result))\n",
      "/home/rbeck1_sw/miniconda3/envs/torch_dpl/lib/python3.8/site-packages/sklearn/metrics/_classification.py:1471: UndefinedMetricWarning: Precision and F-score are ill-defined and being set to 0.0 in labels with no predicted samples. Use `zero_division` parameter to control this behavior.\n",
      "  _warn_prf(average, modifier, msg_start, len(result))\n"
     ]
    },
    {
     "name": "stdout",
     "output_type": "stream",
     "text": [
      "Laplace epsilon: 5.91\n",
      "              precision    recall  f1-score   support\n",
      "\n",
      "       adult       0.25      0.33      0.29         3\n",
      "      senior       0.00      0.00      0.00         2\n",
      "       young       0.00      0.00      0.00         1\n",
      "\n",
      "    accuracy                           0.17         6\n",
      "   macro avg       0.08      0.11      0.10         6\n",
      "weighted avg       0.12      0.17      0.14         6\n",
      "\n"
     ]
    },
    {
     "name": "stderr",
     "output_type": "stream",
     "text": [
      "/home/rbeck1_sw/miniconda3/envs/torch_dpl/lib/python3.8/site-packages/sklearn/metrics/_classification.py:1471: UndefinedMetricWarning: Precision and F-score are ill-defined and being set to 0.0 in labels with no predicted samples. Use `zero_division` parameter to control this behavior.\n",
      "  _warn_prf(average, modifier, msg_start, len(result))\n",
      "/home/rbeck1_sw/miniconda3/envs/torch_dpl/lib/python3.8/site-packages/sklearn/metrics/_classification.py:1471: UndefinedMetricWarning: Precision and F-score are ill-defined and being set to 0.0 in labels with no predicted samples. Use `zero_division` parameter to control this behavior.\n",
      "  _warn_prf(average, modifier, msg_start, len(result))\n",
      "/home/rbeck1_sw/miniconda3/envs/torch_dpl/lib/python3.8/site-packages/sklearn/metrics/_classification.py:1471: UndefinedMetricWarning: Precision and F-score are ill-defined and being set to 0.0 in labels with no predicted samples. Use `zero_division` parameter to control this behavior.\n",
      "  _warn_prf(average, modifier, msg_start, len(result))\n"
     ]
    },
    {
     "name": "stdout",
     "output_type": "stream",
     "text": [
      "Laplace epsilon: 1e-05\n",
      "              precision    recall  f1-score   support\n",
      "\n",
      "       adult       0.50      0.67      0.57         3\n",
      "      senior       0.50      0.50      0.50         2\n",
      "       young       0.00      0.00      0.00         1\n",
      "\n",
      "    accuracy                           0.50         6\n",
      "   macro avg       0.33      0.39      0.36         6\n",
      "weighted avg       0.42      0.50      0.45         6\n",
      "\n"
     ]
    },
    {
     "name": "stderr",
     "output_type": "stream",
     "text": [
      "/home/rbeck1_sw/miniconda3/envs/torch_dpl/lib/python3.8/site-packages/sklearn/metrics/_classification.py:1471: UndefinedMetricWarning: Precision and F-score are ill-defined and being set to 0.0 in labels with no predicted samples. Use `zero_division` parameter to control this behavior.\n",
      "  _warn_prf(average, modifier, msg_start, len(result))\n",
      "/home/rbeck1_sw/miniconda3/envs/torch_dpl/lib/python3.8/site-packages/sklearn/metrics/_classification.py:1471: UndefinedMetricWarning: Precision and F-score are ill-defined and being set to 0.0 in labels with no predicted samples. Use `zero_division` parameter to control this behavior.\n",
      "  _warn_prf(average, modifier, msg_start, len(result))\n",
      "/home/rbeck1_sw/miniconda3/envs/torch_dpl/lib/python3.8/site-packages/sklearn/metrics/_classification.py:1471: UndefinedMetricWarning: Precision and F-score are ill-defined and being set to 0.0 in labels with no predicted samples. Use `zero_division` parameter to control this behavior.\n",
      "  _warn_prf(average, modifier, msg_start, len(result))\n"
     ]
    },
    {
     "name": "stdout",
     "output_type": "stream",
     "text": [
      "Laplace epsilon: 0.041\n",
      "              precision    recall  f1-score   support\n",
      "\n",
      "       adult       0.33      0.33      0.33         3\n",
      "      senior       0.00      0.00      0.00         2\n",
      "       young       0.00      0.00      0.00         1\n",
      "\n",
      "    accuracy                           0.17         6\n",
      "   macro avg       0.11      0.11      0.11         6\n",
      "weighted avg       0.17      0.17      0.17         6\n",
      "\n"
     ]
    },
    {
     "name": "stderr",
     "output_type": "stream",
     "text": [
      "/home/rbeck1_sw/miniconda3/envs/torch_dpl/lib/python3.8/site-packages/sklearn/metrics/_classification.py:1471: UndefinedMetricWarning: Precision and F-score are ill-defined and being set to 0.0 in labels with no predicted samples. Use `zero_division` parameter to control this behavior.\n",
      "  _warn_prf(average, modifier, msg_start, len(result))\n",
      "/home/rbeck1_sw/miniconda3/envs/torch_dpl/lib/python3.8/site-packages/sklearn/metrics/_classification.py:1471: UndefinedMetricWarning: Precision and F-score are ill-defined and being set to 0.0 in labels with no predicted samples. Use `zero_division` parameter to control this behavior.\n",
      "  _warn_prf(average, modifier, msg_start, len(result))\n",
      "/home/rbeck1_sw/miniconda3/envs/torch_dpl/lib/python3.8/site-packages/sklearn/metrics/_classification.py:1471: UndefinedMetricWarning: Precision and F-score are ill-defined and being set to 0.0 in labels with no predicted samples. Use `zero_division` parameter to control this behavior.\n",
      "  _warn_prf(average, modifier, msg_start, len(result))\n"
     ]
    },
    {
     "name": "stdout",
     "output_type": "stream",
     "text": [
      "Laplace epsilon: 0.021\n",
      "              precision    recall  f1-score   support\n",
      "\n",
      "       adult       0.25      0.33      0.29         3\n",
      "      senior       0.00      0.00      0.00         2\n",
      "       young       0.00      0.00      0.00         1\n",
      "\n",
      "    accuracy                           0.17         6\n",
      "   macro avg       0.08      0.11      0.10         6\n",
      "weighted avg       0.12      0.17      0.14         6\n",
      "\n"
     ]
    },
    {
     "name": "stderr",
     "output_type": "stream",
     "text": [
      "/home/rbeck1_sw/miniconda3/envs/torch_dpl/lib/python3.8/site-packages/sklearn/metrics/_classification.py:1471: UndefinedMetricWarning: Precision and F-score are ill-defined and being set to 0.0 in labels with no predicted samples. Use `zero_division` parameter to control this behavior.\n",
      "  _warn_prf(average, modifier, msg_start, len(result))\n",
      "/home/rbeck1_sw/miniconda3/envs/torch_dpl/lib/python3.8/site-packages/sklearn/metrics/_classification.py:1471: UndefinedMetricWarning: Precision and F-score are ill-defined and being set to 0.0 in labels with no predicted samples. Use `zero_division` parameter to control this behavior.\n",
      "  _warn_prf(average, modifier, msg_start, len(result))\n",
      "/home/rbeck1_sw/miniconda3/envs/torch_dpl/lib/python3.8/site-packages/sklearn/metrics/_classification.py:1471: UndefinedMetricWarning: Precision and F-score are ill-defined and being set to 0.0 in labels with no predicted samples. Use `zero_division` parameter to control this behavior.\n",
      "  _warn_prf(average, modifier, msg_start, len(result))\n"
     ]
    }
   ],
   "source": [
    "attr_array_grouped = pd.cut(attr_array, bins=[0, 40, 70, 100], labels=[\"young\", \"adult\", \"senior\"])\n",
    "print(attr_array_grouped.value_counts())\n",
    "\n",
    "for epsilon in laplace_epsilon:\n",
    "\n",
    "    # train the attack model for single beats\n",
    "    y_test, y_pred, pred_classes = train_attribute_inference(dp_single_age[epsilon], attr_array_grouped, task=\"classification\")\n",
    "\n",
    "    # print performance metrics\n",
    "    print(f\"Laplace epsilon: {epsilon}\")\n",
    "    print(classification_report(y_test, y_pred, target_names=pred_classes))"
   ]
  },
  {
   "cell_type": "code",
   "execution_count": 139,
   "id": "36225e0c",
   "metadata": {},
   "outputs": [
    {
     "name": "stdout",
     "output_type": "stream",
     "text": [
      "Laplace epsilon: 0.091\n",
      "              precision    recall  f1-score   support\n",
      "\n",
      "       adult       0.40      0.67      0.50         3\n",
      "      senior       0.00      0.00      0.00         2\n",
      "       young       0.00      0.00      0.00         1\n",
      "\n",
      "    accuracy                           0.33         6\n",
      "   macro avg       0.13      0.22      0.17         6\n",
      "weighted avg       0.20      0.33      0.25         6\n",
      "\n"
     ]
    },
    {
     "name": "stderr",
     "output_type": "stream",
     "text": [
      "/home/rbeck1_sw/miniconda3/envs/torch_dpl/lib/python3.8/site-packages/sklearn/metrics/_classification.py:1471: UndefinedMetricWarning: Precision and F-score are ill-defined and being set to 0.0 in labels with no predicted samples. Use `zero_division` parameter to control this behavior.\n",
      "  _warn_prf(average, modifier, msg_start, len(result))\n",
      "/home/rbeck1_sw/miniconda3/envs/torch_dpl/lib/python3.8/site-packages/sklearn/metrics/_classification.py:1471: UndefinedMetricWarning: Precision and F-score are ill-defined and being set to 0.0 in labels with no predicted samples. Use `zero_division` parameter to control this behavior.\n",
      "  _warn_prf(average, modifier, msg_start, len(result))\n",
      "/home/rbeck1_sw/miniconda3/envs/torch_dpl/lib/python3.8/site-packages/sklearn/metrics/_classification.py:1471: UndefinedMetricWarning: Precision and F-score are ill-defined and being set to 0.0 in labels with no predicted samples. Use `zero_division` parameter to control this behavior.\n",
      "  _warn_prf(average, modifier, msg_start, len(result))\n"
     ]
    },
    {
     "name": "stdout",
     "output_type": "stream",
     "text": [
      "Laplace epsilon: 0.11\n",
      "              precision    recall  f1-score   support\n",
      "\n",
      "       adult       0.40      0.67      0.50         3\n",
      "      senior       0.00      0.00      0.00         2\n",
      "       young       0.00      0.00      0.00         1\n",
      "\n",
      "    accuracy                           0.33         6\n",
      "   macro avg       0.13      0.22      0.17         6\n",
      "weighted avg       0.20      0.33      0.25         6\n",
      "\n"
     ]
    },
    {
     "name": "stderr",
     "output_type": "stream",
     "text": [
      "/home/rbeck1_sw/miniconda3/envs/torch_dpl/lib/python3.8/site-packages/sklearn/metrics/_classification.py:1471: UndefinedMetricWarning: Precision and F-score are ill-defined and being set to 0.0 in labels with no predicted samples. Use `zero_division` parameter to control this behavior.\n",
      "  _warn_prf(average, modifier, msg_start, len(result))\n",
      "/home/rbeck1_sw/miniconda3/envs/torch_dpl/lib/python3.8/site-packages/sklearn/metrics/_classification.py:1471: UndefinedMetricWarning: Precision and F-score are ill-defined and being set to 0.0 in labels with no predicted samples. Use `zero_division` parameter to control this behavior.\n",
      "  _warn_prf(average, modifier, msg_start, len(result))\n",
      "/home/rbeck1_sw/miniconda3/envs/torch_dpl/lib/python3.8/site-packages/sklearn/metrics/_classification.py:1471: UndefinedMetricWarning: Precision and F-score are ill-defined and being set to 0.0 in labels with no predicted samples. Use `zero_division` parameter to control this behavior.\n",
      "  _warn_prf(average, modifier, msg_start, len(result))\n"
     ]
    },
    {
     "name": "stdout",
     "output_type": "stream",
     "text": [
      "Laplace epsilon: 5.91\n",
      "              precision    recall  f1-score   support\n",
      "\n",
      "       adult       0.50      1.00      0.67         3\n",
      "      senior       0.00      0.00      0.00         2\n",
      "       young       0.00      0.00      0.00         1\n",
      "\n",
      "    accuracy                           0.50         6\n",
      "   macro avg       0.17      0.33      0.22         6\n",
      "weighted avg       0.25      0.50      0.33         6\n",
      "\n"
     ]
    },
    {
     "name": "stderr",
     "output_type": "stream",
     "text": [
      "/home/rbeck1_sw/miniconda3/envs/torch_dpl/lib/python3.8/site-packages/sklearn/metrics/_classification.py:1471: UndefinedMetricWarning: Precision and F-score are ill-defined and being set to 0.0 in labels with no predicted samples. Use `zero_division` parameter to control this behavior.\n",
      "  _warn_prf(average, modifier, msg_start, len(result))\n",
      "/home/rbeck1_sw/miniconda3/envs/torch_dpl/lib/python3.8/site-packages/sklearn/metrics/_classification.py:1471: UndefinedMetricWarning: Precision and F-score are ill-defined and being set to 0.0 in labels with no predicted samples. Use `zero_division` parameter to control this behavior.\n",
      "  _warn_prf(average, modifier, msg_start, len(result))\n",
      "/home/rbeck1_sw/miniconda3/envs/torch_dpl/lib/python3.8/site-packages/sklearn/metrics/_classification.py:1471: UndefinedMetricWarning: Precision and F-score are ill-defined and being set to 0.0 in labels with no predicted samples. Use `zero_division` parameter to control this behavior.\n",
      "  _warn_prf(average, modifier, msg_start, len(result))\n"
     ]
    },
    {
     "name": "stdout",
     "output_type": "stream",
     "text": [
      "Laplace epsilon: 1e-05\n",
      "              precision    recall  f1-score   support\n",
      "\n",
      "       adult       0.50      1.00      0.67         3\n",
      "      senior       0.00      0.00      0.00         2\n",
      "       young       0.00      0.00      0.00         1\n",
      "\n",
      "    accuracy                           0.50         6\n",
      "   macro avg       0.17      0.33      0.22         6\n",
      "weighted avg       0.25      0.50      0.33         6\n",
      "\n"
     ]
    },
    {
     "name": "stderr",
     "output_type": "stream",
     "text": [
      "/home/rbeck1_sw/miniconda3/envs/torch_dpl/lib/python3.8/site-packages/sklearn/metrics/_classification.py:1471: UndefinedMetricWarning: Precision and F-score are ill-defined and being set to 0.0 in labels with no predicted samples. Use `zero_division` parameter to control this behavior.\n",
      "  _warn_prf(average, modifier, msg_start, len(result))\n",
      "/home/rbeck1_sw/miniconda3/envs/torch_dpl/lib/python3.8/site-packages/sklearn/metrics/_classification.py:1471: UndefinedMetricWarning: Precision and F-score are ill-defined and being set to 0.0 in labels with no predicted samples. Use `zero_division` parameter to control this behavior.\n",
      "  _warn_prf(average, modifier, msg_start, len(result))\n",
      "/home/rbeck1_sw/miniconda3/envs/torch_dpl/lib/python3.8/site-packages/sklearn/metrics/_classification.py:1471: UndefinedMetricWarning: Precision and F-score are ill-defined and being set to 0.0 in labels with no predicted samples. Use `zero_division` parameter to control this behavior.\n",
      "  _warn_prf(average, modifier, msg_start, len(result))\n"
     ]
    },
    {
     "name": "stdout",
     "output_type": "stream",
     "text": [
      "Laplace epsilon: 0.041\n",
      "              precision    recall  f1-score   support\n",
      "\n",
      "       adult       0.25      0.33      0.29         3\n",
      "      senior       0.00      0.00      0.00         2\n",
      "       young       0.00      0.00      0.00         1\n",
      "\n",
      "    accuracy                           0.17         6\n",
      "   macro avg       0.08      0.11      0.10         6\n",
      "weighted avg       0.12      0.17      0.14         6\n",
      "\n"
     ]
    },
    {
     "name": "stderr",
     "output_type": "stream",
     "text": [
      "/home/rbeck1_sw/miniconda3/envs/torch_dpl/lib/python3.8/site-packages/sklearn/metrics/_classification.py:1471: UndefinedMetricWarning: Precision and F-score are ill-defined and being set to 0.0 in labels with no predicted samples. Use `zero_division` parameter to control this behavior.\n",
      "  _warn_prf(average, modifier, msg_start, len(result))\n",
      "/home/rbeck1_sw/miniconda3/envs/torch_dpl/lib/python3.8/site-packages/sklearn/metrics/_classification.py:1471: UndefinedMetricWarning: Precision and F-score are ill-defined and being set to 0.0 in labels with no predicted samples. Use `zero_division` parameter to control this behavior.\n",
      "  _warn_prf(average, modifier, msg_start, len(result))\n",
      "/home/rbeck1_sw/miniconda3/envs/torch_dpl/lib/python3.8/site-packages/sklearn/metrics/_classification.py:1471: UndefinedMetricWarning: Precision and F-score are ill-defined and being set to 0.0 in labels with no predicted samples. Use `zero_division` parameter to control this behavior.\n",
      "  _warn_prf(average, modifier, msg_start, len(result))\n"
     ]
    },
    {
     "name": "stdout",
     "output_type": "stream",
     "text": [
      "Laplace epsilon: 0.021\n",
      "              precision    recall  f1-score   support\n",
      "\n",
      "       adult       0.25      0.33      0.29         3\n",
      "      senior       0.00      0.00      0.00         2\n",
      "       young       0.00      0.00      0.00         1\n",
      "\n",
      "    accuracy                           0.17         6\n",
      "   macro avg       0.08      0.11      0.10         6\n",
      "weighted avg       0.12      0.17      0.14         6\n",
      "\n"
     ]
    },
    {
     "name": "stderr",
     "output_type": "stream",
     "text": [
      "/home/rbeck1_sw/miniconda3/envs/torch_dpl/lib/python3.8/site-packages/sklearn/metrics/_classification.py:1471: UndefinedMetricWarning: Precision and F-score are ill-defined and being set to 0.0 in labels with no predicted samples. Use `zero_division` parameter to control this behavior.\n",
      "  _warn_prf(average, modifier, msg_start, len(result))\n",
      "/home/rbeck1_sw/miniconda3/envs/torch_dpl/lib/python3.8/site-packages/sklearn/metrics/_classification.py:1471: UndefinedMetricWarning: Precision and F-score are ill-defined and being set to 0.0 in labels with no predicted samples. Use `zero_division` parameter to control this behavior.\n",
      "  _warn_prf(average, modifier, msg_start, len(result))\n",
      "/home/rbeck1_sw/miniconda3/envs/torch_dpl/lib/python3.8/site-packages/sklearn/metrics/_classification.py:1471: UndefinedMetricWarning: Precision and F-score are ill-defined and being set to 0.0 in labels with no predicted samples. Use `zero_division` parameter to control this behavior.\n",
      "  _warn_prf(average, modifier, msg_start, len(result))\n"
     ]
    }
   ],
   "source": [
    "for epsilon in laplace_epsilon:\n",
    "\n",
    "    # train the attack model for single beats\n",
    "    y_test, y_pred, pred_classes = train_attribute_inference(dp_trio_age[epsilon], attr_array_grouped, task=\"classification\")\n",
    "\n",
    "    # print performance metrics\n",
    "    print(f\"Laplace epsilon: {epsilon}\")\n",
    "    print(classification_report(y_test, y_pred, target_names=pred_classes))"
   ]
  },
  {
   "cell_type": "markdown",
   "id": "6bb2ea4e",
   "metadata": {},
   "source": [
    "### LaplaceBoundedNoise"
   ]
  },
  {
   "cell_type": "code",
   "execution_count": null,
   "id": "83b26ed9",
   "metadata": {},
   "outputs": [],
   "source": [
    "dp_single, dp_trio = get_dp_beats(\"bounded_n\")"
   ]
  },
  {
   "cell_type": "code",
   "execution_count": null,
   "id": "44002937",
   "metadata": {},
   "outputs": [],
   "source": [
    "bounded_epsilon = list(set(df_toplow_20[df_toplow_20[\"Method\"] == \"bounded_n\"][\"Epsilon\"].tolist()))\n",
    "bounded_epsilon"
   ]
  },
  {
   "cell_type": "markdown",
   "id": "eceb10d1",
   "metadata": {},
   "source": [
    "### GaussianAnalytic"
   ]
  },
  {
   "cell_type": "code",
   "execution_count": null,
   "id": "31ab1d55",
   "metadata": {},
   "outputs": [],
   "source": [
    "dp_single, dp_trio = get_dp_beats(\"gaussian_a\")"
   ]
  },
  {
   "cell_type": "code",
   "execution_count": null,
   "id": "7270fb0f",
   "metadata": {},
   "outputs": [],
   "source": [
    "gaussian_epsilon = list(set(df_toplow_20[df_toplow_20[\"Method\"] == \"gaussian_a\"][\"Epsilon\"].tolist()))\n",
    "gaussian_epsilon"
   ]
  }
 ],
 "metadata": {
  "kernelspec": {
   "display_name": "torch_dpl",
   "language": "python",
   "name": "python3"
  },
  "language_info": {
   "codemirror_mode": {
    "name": "ipython",
    "version": 3
   },
   "file_extension": ".py",
   "mimetype": "text/x-python",
   "name": "python",
   "nbconvert_exporter": "python",
   "pygments_lexer": "ipython3",
   "version": "3.8.20"
  }
 },
 "nbformat": 4,
 "nbformat_minor": 5
}
