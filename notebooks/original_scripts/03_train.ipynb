{
 "cells": [
  {
   "cell_type": "markdown",
   "id": "c49ac566",
   "metadata": {},
   "source": [
    "## Notebook for training a neural network for all the 34 patients selected from the MIT-BIH dataset."
   ]
  },
  {
   "cell_type": "code",
   "execution_count": null,
   "id": "d7c61eed",
   "metadata": {},
   "outputs": [],
   "source": [
    "import numpy as np\n",
    "import pandas as pd\n",
    "from os.path import join as osj\n",
    "from ecg_utilities import *\n",
    "import torch.nn.functional as Func\n",
    "\n",
    "from pytorch_sklearn import NeuralNetwork\n",
    "from pytorch_sklearn.callbacks import WeightCheckpoint, Verbose, LossPlot, EarlyStopping, Callback, CallbackInfo\n",
    "from pytorch_sklearn.utils.func_utils import to_safe_tensor"
   ]
  },
  {
   "cell_type": "code",
   "execution_count": 2,
   "id": "b13db535",
   "metadata": {},
   "outputs": [],
   "source": [
    "patient_ids = pd.read_csv(osj(\"..\", \"files\", \"patient_ids.csv\"), header=None).to_numpy().reshape(-1)\n",
    "valid_patients = pd.read_csv(osj(\"..\", \"files\", \"valid_patients.csv\"), header=None).to_numpy().reshape(-1)"
   ]
  },
  {
   "cell_type": "code",
   "execution_count": null,
   "id": "c9a1d218",
   "metadata": {},
   "outputs": [],
   "source": [
    "DATASET_PATH = osj(\"..\", \"data_single\", \"dataset_training\", \"domain_adapted\")\n",
    "TRIO_PATH = osj(\"..\", \"data_trio\", \"dataset_training\", \"domain_adapted\")\n",
    "\n",
    "DICT_PATH = osj(\"..\", \"data_single\", \"dictionaries\", \"5min_sorted\")\n",
    "\n",
    "SAVE_PATH = osj(\"..\", \"savefolder\")"
   ]
  },
  {
   "cell_type": "code",
   "execution_count": 4,
   "id": "56b8f845",
   "metadata": {},
   "outputs": [],
   "source": [
    "max_epochs = [-1]\n",
    "batch_sizes = [1024]"
   ]
  },
  {
   "cell_type": "markdown",
   "id": "eebc8718",
   "metadata": {},
   "source": [
    "What is collected?\n",
    "- Per repeat:\n",
    "    - Confusion matrices per patient (34 in total).\n",
    "    - Cumulative confusion matrix (1 in total)."
   ]
  },
  {
   "cell_type": "markdown",
   "id": "b552ab2e",
   "metadata": {},
   "source": [
    "# Model Training\n",
    "\n",
    "Takes about 2h on a 3080 RTX Laptop GPU\n",
    "\n",
    "Set a new folder to save the net weights"
   ]
  },
  {
   "cell_type": "code",
   "execution_count": 5,
   "id": "538c97ad",
   "metadata": {},
   "outputs": [
    {
     "name": "stderr",
     "output_type": "stream",
     "text": [
      "/home/rbeck1_sw/Zero-Shot-ECG/notebooks/pytorch_sklearn/neural_network/neural_network.py:182: UserWarning: max_epochs is set to -1. Make sure to pass an early stopping method.\n",
      "  warnings.warn(\"max_epochs is set to -1. Make sure to pass an early stopping method.\")\n"
     ]
    },
    {
     "name": "stdout",
     "output_type": "stream",
     "text": [
      "34/34 [====================] - 233\u001b[2k\n",
      "34/34 [====================] - 233\u001b[2k\n",
      "34/34 [====================] - 233\u001b[2k\n",
      "34/34 [====================] - 233\u001b[2k\n",
      "34/34 [====================] - 233\u001b[2k\n",
      "34/34 [====================] - 233\u001b[2k\n",
      "34/34 [====================] - 233\u001b[2k\n",
      "34/34 [====================] - 233\u001b[2k\n",
      "34/34 [====================] - 233\u001b[2k\n",
      "34/34 [====================] - 233\u001b[2k\n"
     ]
    }
   ],
   "source": [
    "# %%time\n",
    "all_patient_cms = []\n",
    "all_cms = []\n",
    "performance = {}\n",
    "repeats = 10\n",
    "\n",
    "for repeat in range(repeats):\n",
    "    patient_cms = {}\n",
    "    cm = torch.zeros(2, 2)\n",
    "    \n",
    "    for i, patient_id in enumerate(valid_patients):\n",
    "        dataset = load_N_channel_dataset(patient_id, DATASET_PATH, TRIO_PATH)\n",
    "        train_X, train_y, train_ids, val_X, val_y, val_ids, test_X, test_y, test_ids = dataset.values()\n",
    "\n",
    "        # Train the neural network.\n",
    "        model = get_base_model(in_channels=train_X.shape[1])\n",
    "        crit = nn.CrossEntropyLoss()\n",
    "        optim = torch.optim.AdamW(params=model.parameters())\n",
    "        \n",
    "        net = NeuralNetwork(model, optim, crit)\n",
    "        weight_checkpoint_val_loss = WeightCheckpoint(tracked=\"val_loss\", mode=\"min\")\n",
    "        early_stopping = EarlyStopping(tracked=\"val_loss\", mode=\"min\", patience=15)\n",
    "\n",
    "        net.fit(\n",
    "            train_X=train_X,\n",
    "            train_y=train_y,\n",
    "            validate=True,\n",
    "            val_X=val_X,\n",
    "            val_y=val_y,\n",
    "            max_epochs=max_epochs[0],\n",
    "            batch_size=batch_sizes[0],\n",
    "            use_cuda=True,\n",
    "            fits_gpu=True,\n",
    "            callbacks=[weight_checkpoint_val_loss, early_stopping],\n",
    "        )\n",
    "        \n",
    "        net.load_weights(weight_checkpoint_val_loss)\n",
    "        pred_y = net.predict(test_X, decision_func=lambda pred_y: pred_y.argmax(dim=1)).cpu()\n",
    "        \n",
    "        # In order to save the trained weights\n",
    "        NeuralNetwork.save_class(net, osj(SAVE_PATH, \"nets\", f\"net_{repeat+1}_{patient_id}\"))\n",
    "\n",
    "        cur_cm = get_confusion_matrix(pred_y, test_y, pos_is_zero=False)\n",
    "        patient_cms[patient_id] = cur_cm\n",
    "        cm += cur_cm\n",
    "            \n",
    "        print_progress(i + 1, len(valid_patients), opt=[f\"{patient_id}\"])\n",
    "        \n",
    "    all_patient_cms.append(patient_cms)\n",
    "    all_cms.append(cm)"
   ]
  },
  {
   "cell_type": "code",
   "execution_count": 6,
   "id": "6e735d71",
   "metadata": {},
   "outputs": [],
   "source": [
    "config = dict(\n",
    "    learning_rate=0.001,\n",
    "    max_epochs=max_epochs[0],\n",
    "    batch_size=batch_sizes[0],\n",
    "    optimizer=optim.__class__.__name__,\n",
    "    loss=crit.__class__.__name__,\n",
    "    early_stopping=\"true\",\n",
    "    checkpoint_on=weight_checkpoint_val_loss.tracked,\n",
    "    dataset=\"default+trio\",\n",
    "    info=\"2-channel run, domain adapted, consulting with default dictionary, and trying all thresholds, saves weights\"\n",
    ")"
   ]
  },
  {
   "cell_type": "code",
   "execution_count": 7,
   "id": "e965eea7",
   "metadata": {},
   "outputs": [],
   "source": [
    "all_cms = np.stack(all_cms).astype(int)\n",
    "performance = get_performance_metrics(all_cms.sum(axis=0))"
   ]
  },
  {
   "cell_type": "code",
   "execution_count": null,
   "id": "eeaa00e7",
   "metadata": {},
   "outputs": [
    {
     "data": {
      "text/plain": [
       "{'acc': 0.9752713888586915,\n",
       " 'rec': 0.8854954163003893,\n",
       " 'spe': 0.9879403842064224,\n",
       " 'pre': 0.9119857211221336,\n",
       " 'npv': 0.983907319716269,\n",
       " 'f1': 0.8985453688187732}"
      ]
     },
     "execution_count": 9,
     "metadata": {},
     "output_type": "execute_result"
    }
   ],
   "source": [
    "get_performance_metrics(all_cms.sum(axis=0))"
   ]
  },
  {
   "cell_type": "code",
   "execution_count": null,
   "id": "f3bad338",
   "metadata": {},
   "outputs": [],
   "source": [
    "if False:\n",
    "    SAVE_PATH = osj(SAVE_PATH, \"DA\")\n",
    "\n",
    "    with open(osj(SAVE_PATH, \"cms.pkl\"), \"wb\") as f:\n",
    "        pickle.dump(all_cms, f)\n",
    "        \n",
    "    with open(osj(SAVE_PATH, \"config.pkl\"), \"wb\") as f:\n",
    "        pickle.dump(config, f)\n",
    "        \n",
    "    with open(osj(SAVE_PATH, \"patient_cms.pkl\"), \"wb\") as f:\n",
    "        pickle.dump(all_patient_cms, f)\n",
    "\n",
    "    with open(osj(SAVE_PATH, \"performance.pkl\"), \"wb\") as f:\n",
    "        pickle.dump(performance, f)\n"
   ]
  }
 ],
 "metadata": {
  "kernelspec": {
   "display_name": "torch_dpl",
   "language": "python",
   "name": "python3"
  },
  "language_info": {
   "codemirror_mode": {
    "name": "ipython",
    "version": 3
   },
   "file_extension": ".py",
   "mimetype": "text/x-python",
   "name": "python",
   "nbconvert_exporter": "python",
   "pygments_lexer": "ipython3",
   "version": "3.8.20"
  }
 },
 "nbformat": 4,
 "nbformat_minor": 5
}
